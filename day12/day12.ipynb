{
 "cells": [
  {
   "cell_type": "code",
   "execution_count": 60,
   "metadata": {},
   "outputs": [],
   "source": [
    "with open('input.txt','r') as f:\n",
    "    lines = [line.strip() for line in f.readlines()]"
   ]
  },
  {
   "cell_type": "code",
   "execution_count": 61,
   "metadata": {},
   "outputs": [],
   "source": [
    "steps = [(line[0],int(line[1:])) for line in lines]"
   ]
  },
  {
   "cell_type": "code",
   "execution_count": 62,
   "metadata": {},
   "outputs": [
    {
     "data": {
      "text/plain": [
       "(-534, 102)"
      ]
     },
     "execution_count": 62,
     "metadata": {},
     "output_type": "execute_result"
    }
   ],
   "source": [
    "facing = 0\n",
    "x,y = 0,0\n",
    "for step in steps:\n",
    "    if step[0] == 'E':\n",
    "        x += step[1]\n",
    "    elif step[0] == 'N':\n",
    "        y += step[1]\n",
    "    elif step[0] == 'W':\n",
    "        x -= step[1]\n",
    "    elif step[0] == 'S':\n",
    "        y -= step[1]\n",
    "    elif step[0] == 'L':\n",
    "        facing -= step[1]\n",
    "        if(facing < 0):\n",
    "            facing += 360\n",
    "    elif step[0] == 'R':\n",
    "        facing += step[1]\n",
    "        if(facing >= 360):\n",
    "            facing -= 360\n",
    "    elif step[0] == 'F':\n",
    "        if facing == 0:\n",
    "            x += step[1]\n",
    "        elif facing == 270:\n",
    "            y += step[1]\n",
    "        elif facing == 180:\n",
    "            x -= step[1]\n",
    "        elif facing == 90:\n",
    "            y -= step[1]\n",
    "    #print(x,y)\n",
    "x,y"
   ]
  },
  {
   "cell_type": "code",
   "execution_count": 63,
   "metadata": {},
   "outputs": [
    {
     "data": {
      "text/plain": [
       "636"
      ]
     },
     "execution_count": 63,
     "metadata": {},
     "output_type": "execute_result"
    }
   ],
   "source": [
    "abs(x) + abs(y)"
   ]
  },
  {
   "cell_type": "code",
   "execution_count": 66,
   "metadata": {},
   "outputs": [
    {
     "data": {
      "text/plain": [
       "(-13913, 12928)"
      ]
     },
     "execution_count": 66,
     "metadata": {},
     "output_type": "execute_result"
    }
   ],
   "source": [
    "x,y = 0,0\n",
    "wx,wy = 10,1\n",
    "for step in steps:\n",
    "    if step[0] == 'E':\n",
    "        wx += step[1]\n",
    "    elif step[0] == 'N':\n",
    "        wy += step[1]\n",
    "    elif step[0] == 'W':\n",
    "        wx -= step[1]\n",
    "    elif step[0] == 'S':\n",
    "        wy -= step[1]\n",
    "    elif step[0] == 'L':\n",
    "        temp_wx = wx\n",
    "        temp_wy = wy\n",
    "        for i in range(0,int(step[1]/90)):\n",
    "            wy = temp_wx\n",
    "            wx = -temp_wy\n",
    "            temp_wx = wx\n",
    "            temp_wy = wy\n",
    "    elif step[0] == 'R':\n",
    "        temp_wx = wx\n",
    "        temp_wy = wy\n",
    "        for i in range(0,int(step[1]/90)):\n",
    "            wy = -temp_wx\n",
    "            wx = temp_wy\n",
    "            temp_wx = wx\n",
    "            temp_wy = wy\n",
    "    elif step[0] == 'F':\n",
    "        x += wx*step[1]\n",
    "        y += wy*step[1]    \n",
    "    #print(x,y,wx,wy)\n",
    "x,y"
   ]
  },
  {
   "cell_type": "code",
   "execution_count": 67,
   "metadata": {},
   "outputs": [
    {
     "data": {
      "text/plain": [
       "26841"
      ]
     },
     "execution_count": 67,
     "metadata": {},
     "output_type": "execute_result"
    }
   ],
   "source": [
    "abs(x) + abs(y)"
   ]
  },
  {
   "cell_type": "code",
   "execution_count": null,
   "metadata": {},
   "outputs": [],
   "source": [
    "10,1\n",
    "\n",
    "L90 (x=-y, y=x)\n",
    "-1,10\n",
    "L90 (x=-y, y=x)\n",
    "-10,-1\n",
    "L90 (x=-y, y=x)\n",
    "1,-10\n",
    "L90\n",
    "10,1 (x=-y, y=x)\n",
    "\n",
    "R90 (x=y, y=-x)\n",
    "1,-10\n",
    "L90 (x=y, y=-x)\n",
    "-10,-1\n",
    "L90 (x=y, y=-x)\n",
    "-1,10\n",
    "L90\n",
    "10,1 (x=y, y=-x)"
   ]
  },
  {
   "cell_type": "code",
   "execution_count": null,
   "metadata": {},
   "outputs": [],
   "source": [
    "10,1\n",
    "\n",
    "L180 (x=-y, y=-x)\n",
    "-10,-1\n",
    "\n",
    "R180 (x=-y, y=-x)\n",
    "-10,-1"
   ]
  }
 ],
 "metadata": {
  "kernelspec": {
   "display_name": "Python 3",
   "language": "python",
   "name": "python3"
  },
  "language_info": {
   "codemirror_mode": {
    "name": "ipython",
    "version": 3
   },
   "file_extension": ".py",
   "mimetype": "text/x-python",
   "name": "python",
   "nbconvert_exporter": "python",
   "pygments_lexer": "ipython3",
   "version": "3.7.4"
  }
 },
 "nbformat": 4,
 "nbformat_minor": 2
}
