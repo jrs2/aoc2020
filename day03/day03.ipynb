{
 "cells": [
  {
   "cell_type": "code",
   "execution_count": 24,
   "metadata": {},
   "outputs": [
    {
     "name": "stdout",
     "output_type": "stream",
     "text": [
      "Total trees: 171\n"
     ]
    }
   ],
   "source": [
    "#Setup as a function\n",
    "TREE = '#'\n",
    "NO_TREE = '.'\n",
    "def get_tree_count(run,rise):\n",
    "    idx = 0\n",
    "    total_trees = 0\n",
    "    with open('day03.txt','r') as f:\n",
    "        line = f.readline() #first line doesn't count on first pass\n",
    "        total_colunms = line.count(NO_TREE) + line.count(TREE)\n",
    "        for i in range(rise):\n",
    "            line = f.readline()\n",
    "        while(line):\n",
    "            idx = (idx + run) % total_columns\n",
    "            if (line[idx] == TREE):\n",
    "                total_trees += 1\n",
    "            for i in range(rise):\n",
    "                line = f.readline()\n",
    "    return total_trees\n",
    "print(f'Total trees: {get_tree_count(3,1)}')"
   ]
  },
  {
   "cell_type": "code",
   "execution_count": 25,
   "metadata": {},
   "outputs": [],
   "source": [
    "#Right 1, down 1.\n",
    "#Right 3, down 1. (This is the slope you already checked.)\n",
    "#Right 5, down 1.\n",
    "#Right 7, down 1.\n",
    "#Right 1, down 2."
   ]
  },
  {
   "cell_type": "code",
   "execution_count": 26,
   "metadata": {},
   "outputs": [
    {
     "name": "stdout",
     "output_type": "stream",
     "text": [
      "70\n",
      "171\n",
      "48\n",
      "60\n",
      "35\n",
      "Multiplier: 1206576000\n"
     ]
    }
   ],
   "source": [
    "#Part Two...setup the list of slopes and process through\n",
    "slope_list = [[1,1], \n",
    "                 [3,1], \n",
    "                 [5,1], \n",
    "                 [7,1], \n",
    "                 [1,2]]\n",
    "\n",
    "multiplier = 1\n",
    "for slope in slope_list: \n",
    "    tree_count = get_tree_count(slope[0],slope[1])\n",
    "    print(tree_count)\n",
    "    multiplier=multiplier*tree_count\n",
    "print(f'Multiplier: {multiplier}')"
   ]
  },
  {
   "cell_type": "code",
   "execution_count": null,
   "metadata": {},
   "outputs": [],
   "source": []
  }
 ],
 "metadata": {
  "kernelspec": {
   "display_name": "Python 3",
   "language": "python",
   "name": "python3"
  },
  "language_info": {
   "codemirror_mode": {
    "name": "ipython",
    "version": 3
   },
   "file_extension": ".py",
   "mimetype": "text/x-python",
   "name": "python",
   "nbconvert_exporter": "python",
   "pygments_lexer": "ipython3",
   "version": "3.7.4"
  }
 },
 "nbformat": 4,
 "nbformat_minor": 2
}
