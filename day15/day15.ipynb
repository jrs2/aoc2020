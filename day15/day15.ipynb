{
 "cells": [
  {
   "cell_type": "code",
   "execution_count": 41,
   "metadata": {},
   "outputs": [],
   "source": [
    "def pt1(puzzle):\n",
    "    #assumes there are no repeats in the puzzle\n",
    "    last_index = {}\n",
    "    for idx, i in enumerate(puzzle):\n",
    "        last_index[i] = idx\n",
    "    #0-2019 for the numbers\n",
    "    last_number = -1 #since no repeats force this\n",
    "    #print(last_index)\n",
    "    for i in range(len(puzzle),2020):\n",
    "        if last_number in last_index.keys():\n",
    "            #print(i,last_number,last_index[last_number])\n",
    "            new_number = i - last_index[last_number] - 1\n",
    "        else:\n",
    "            new_number = 0\n",
    "        last_index[last_number] = i-1\n",
    "        last_number = new_number\n",
    "        #print(new_number)\n",
    "    return new_number   "
   ]
  },
  {
   "cell_type": "code",
   "execution_count": 47,
   "metadata": {},
   "outputs": [],
   "source": [
    "assert(pt1([0,3,6]) == 436)\n",
    "assert(pt1([1,3,2]) == 1)\n",
    "assert(pt1([2,1,3]) == 10)\n",
    "assert(pt1([1,2,3]) == 27)\n",
    "assert(pt1([2,3,1]) == 78)\n",
    "assert(pt1([3,2,1]) == 438)\n",
    "assert(pt1([3,1,2]) == 1836)"
   ]
  },
  {
   "cell_type": "code",
   "execution_count": 48,
   "metadata": {},
   "outputs": [
    {
     "data": {
      "text/plain": [
       "1280"
      ]
     },
     "execution_count": 48,
     "metadata": {},
     "output_type": "execute_result"
    }
   ],
   "source": [
    "pt1([2,15,0,9,1,20])"
   ]
  },
  {
   "cell_type": "code",
   "execution_count": 57,
   "metadata": {},
   "outputs": [],
   "source": [
    "def pt2(puzzle, place=30000000):\n",
    "    #assumes there are no repeats in the puzzle\n",
    "    last_index = {}\n",
    "    for idx, i in enumerate(puzzle):\n",
    "        last_index[i] = idx\n",
    "    #0-2019 for the numbers\n",
    "    last_number = -1 #since no repeats force this\n",
    "    #print(last_index)\n",
    "    for i in range(len(puzzle),place):\n",
    "        if i % 3000000 == 0:\n",
    "            print(i)\n",
    "        if last_number in last_index.keys():\n",
    "            #print(i,last_number,last_index[last_number])\n",
    "            new_number = i - last_index[last_number] - 1\n",
    "        else:\n",
    "            new_number = 0\n",
    "        last_index[last_number] = i-1\n",
    "        last_number = new_number\n",
    "        #print(new_number)\n",
    "    return new_number"
   ]
  },
  {
   "cell_type": "code",
   "execution_count": 59,
   "metadata": {},
   "outputs": [
    {
     "name": "stdout",
     "output_type": "stream",
     "text": [
      "3000000\n",
      "6000000\n",
      "9000000\n",
      "12000000\n",
      "15000000\n",
      "18000000\n",
      "21000000\n",
      "24000000\n",
      "27000000\n"
     ]
    }
   ],
   "source": [
    "assert(pt2([0,3,6]) == 175594)\n",
    "#assert(pt2([1,3,2]) == 2578)\n",
    "#assert(pt2([2,1,3]) == 3544142)\n",
    "#assert(pt2([1,2,3]) == 261214)\n",
    "#assert(pt2([2,3,1]) == 6895259)\n",
    "#assert(pt2([3,2,1]) == 18)\n",
    "#assert(pt2([3,1,2]) == 362)"
   ]
  },
  {
   "cell_type": "code",
   "execution_count": 58,
   "metadata": {},
   "outputs": [
    {
     "name": "stdout",
     "output_type": "stream",
     "text": [
      "3000000\n",
      "6000000\n",
      "9000000\n",
      "12000000\n",
      "15000000\n",
      "18000000\n",
      "21000000\n",
      "24000000\n",
      "27000000\n"
     ]
    },
    {
     "data": {
      "text/plain": [
       "651639"
      ]
     },
     "execution_count": 58,
     "metadata": {},
     "output_type": "execute_result"
    }
   ],
   "source": [
    "pt2([2,15,0,9,1,20])"
   ]
  },
  {
   "cell_type": "code",
   "execution_count": null,
   "metadata": {},
   "outputs": [],
   "source": []
  }
 ],
 "metadata": {
  "kernelspec": {
   "display_name": "Python 3",
   "language": "python",
   "name": "python3"
  },
  "language_info": {
   "codemirror_mode": {
    "name": "ipython",
    "version": 3
   },
   "file_extension": ".py",
   "mimetype": "text/x-python",
   "name": "python",
   "nbconvert_exporter": "python",
   "pygments_lexer": "ipython3",
   "version": "3.7.4"
  }
 },
 "nbformat": 4,
 "nbformat_minor": 2
}
