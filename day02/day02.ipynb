{
 "cells": [
  {
   "cell_type": "code",
   "execution_count": 47,
   "metadata": {},
   "outputs": [
    {
     "data": {
      "text/html": [
       "<div>\n",
       "<style scoped>\n",
       "    .dataframe tbody tr th:only-of-type {\n",
       "        vertical-align: middle;\n",
       "    }\n",
       "\n",
       "    .dataframe tbody tr th {\n",
       "        vertical-align: top;\n",
       "    }\n",
       "\n",
       "    .dataframe thead th {\n",
       "        text-align: right;\n",
       "    }\n",
       "</style>\n",
       "<table border=\"1\" class=\"dataframe\">\n",
       "  <thead>\n",
       "    <tr style=\"text-align: right;\">\n",
       "      <th></th>\n",
       "      <th>policy</th>\n",
       "      <th>password</th>\n",
       "    </tr>\n",
       "  </thead>\n",
       "  <tbody>\n",
       "    <tr>\n",
       "      <td>0</td>\n",
       "      <td>4-8 n</td>\n",
       "      <td>dnjjrtclnzdnghnbnn</td>\n",
       "    </tr>\n",
       "    <tr>\n",
       "      <td>1</td>\n",
       "      <td>5-6 r</td>\n",
       "      <td>rrrrcqr</td>\n",
       "    </tr>\n",
       "    <tr>\n",
       "      <td>2</td>\n",
       "      <td>2-4 p</td>\n",
       "      <td>pqhpppwpfmr</td>\n",
       "    </tr>\n",
       "    <tr>\n",
       "      <td>3</td>\n",
       "      <td>1-13 p</td>\n",
       "      <td>spppppppppppvp</td>\n",
       "    </tr>\n",
       "    <tr>\n",
       "      <td>4</td>\n",
       "      <td>5-6 x</td>\n",
       "      <td>xfwxxxxx</td>\n",
       "    </tr>\n",
       "  </tbody>\n",
       "</table>\n",
       "</div>"
      ],
      "text/plain": [
       "   policy            password\n",
       "0   4-8 n  dnjjrtclnzdnghnbnn\n",
       "1   5-6 r             rrrrcqr\n",
       "2   2-4 p         pqhpppwpfmr\n",
       "3  1-13 p      spppppppppppvp\n",
       "4   5-6 x            xfwxxxxx"
      ]
     },
     "execution_count": 47,
     "metadata": {},
     "output_type": "execute_result"
    }
   ],
   "source": [
    "#See how many passwords are compliant\n",
    "#Pull the data down\n",
    "import pandas as pd\n",
    "df = pd.read_csv('day02.csv',header=None, sep=':',names=['policy','password'])\n",
    "\n",
    "#Had to add this as there is a space before password which means messes up indexing below\n",
    "df['password'] = df['password'].str.strip()\n",
    "df.head()"
   ]
  },
  {
   "cell_type": "code",
   "execution_count": 48,
   "metadata": {},
   "outputs": [
    {
     "data": {
      "text/html": [
       "<div>\n",
       "<style scoped>\n",
       "    .dataframe tbody tr th:only-of-type {\n",
       "        vertical-align: middle;\n",
       "    }\n",
       "\n",
       "    .dataframe tbody tr th {\n",
       "        vertical-align: top;\n",
       "    }\n",
       "\n",
       "    .dataframe thead th {\n",
       "        text-align: right;\n",
       "    }\n",
       "</style>\n",
       "<table border=\"1\" class=\"dataframe\">\n",
       "  <thead>\n",
       "    <tr style=\"text-align: right;\">\n",
       "      <th></th>\n",
       "      <th>password</th>\n",
       "      <th>policy_count</th>\n",
       "      <th>policy_letter</th>\n",
       "    </tr>\n",
       "  </thead>\n",
       "  <tbody>\n",
       "    <tr>\n",
       "      <td>0</td>\n",
       "      <td>dnjjrtclnzdnghnbnn</td>\n",
       "      <td>4-8</td>\n",
       "      <td>n</td>\n",
       "    </tr>\n",
       "    <tr>\n",
       "      <td>1</td>\n",
       "      <td>rrrrcqr</td>\n",
       "      <td>5-6</td>\n",
       "      <td>r</td>\n",
       "    </tr>\n",
       "    <tr>\n",
       "      <td>2</td>\n",
       "      <td>pqhpppwpfmr</td>\n",
       "      <td>2-4</td>\n",
       "      <td>p</td>\n",
       "    </tr>\n",
       "    <tr>\n",
       "      <td>3</td>\n",
       "      <td>spppppppppppvp</td>\n",
       "      <td>1-13</td>\n",
       "      <td>p</td>\n",
       "    </tr>\n",
       "    <tr>\n",
       "      <td>4</td>\n",
       "      <td>xfwxxxxx</td>\n",
       "      <td>5-6</td>\n",
       "      <td>x</td>\n",
       "    </tr>\n",
       "  </tbody>\n",
       "</table>\n",
       "</div>"
      ],
      "text/plain": [
       "             password policy_count policy_letter\n",
       "0  dnjjrtclnzdnghnbnn          4-8             n\n",
       "1             rrrrcqr          5-6             r\n",
       "2         pqhpppwpfmr          2-4             p\n",
       "3      spppppppppppvp         1-13             p\n",
       "4            xfwxxxxx          5-6             x"
      ]
     },
     "execution_count": 48,
     "metadata": {},
     "output_type": "execute_result"
    }
   ],
   "source": [
    "df[['policy_count','policy_letter']] = df['policy'].str.split(' ',expand=True)\n",
    "df.drop(columns=['policy'],inplace=True)\n",
    "df.head()"
   ]
  },
  {
   "cell_type": "code",
   "execution_count": 49,
   "metadata": {},
   "outputs": [
    {
     "data": {
      "text/html": [
       "<div>\n",
       "<style scoped>\n",
       "    .dataframe tbody tr th:only-of-type {\n",
       "        vertical-align: middle;\n",
       "    }\n",
       "\n",
       "    .dataframe tbody tr th {\n",
       "        vertical-align: top;\n",
       "    }\n",
       "\n",
       "    .dataframe thead th {\n",
       "        text-align: right;\n",
       "    }\n",
       "</style>\n",
       "<table border=\"1\" class=\"dataframe\">\n",
       "  <thead>\n",
       "    <tr style=\"text-align: right;\">\n",
       "      <th></th>\n",
       "      <th>password</th>\n",
       "      <th>policy_letter</th>\n",
       "      <th>policy_count_min</th>\n",
       "      <th>policy_count_max</th>\n",
       "    </tr>\n",
       "  </thead>\n",
       "  <tbody>\n",
       "    <tr>\n",
       "      <td>0</td>\n",
       "      <td>dnjjrtclnzdnghnbnn</td>\n",
       "      <td>n</td>\n",
       "      <td>4</td>\n",
       "      <td>8</td>\n",
       "    </tr>\n",
       "    <tr>\n",
       "      <td>1</td>\n",
       "      <td>rrrrcqr</td>\n",
       "      <td>r</td>\n",
       "      <td>5</td>\n",
       "      <td>6</td>\n",
       "    </tr>\n",
       "    <tr>\n",
       "      <td>2</td>\n",
       "      <td>pqhpppwpfmr</td>\n",
       "      <td>p</td>\n",
       "      <td>2</td>\n",
       "      <td>4</td>\n",
       "    </tr>\n",
       "    <tr>\n",
       "      <td>3</td>\n",
       "      <td>spppppppppppvp</td>\n",
       "      <td>p</td>\n",
       "      <td>1</td>\n",
       "      <td>13</td>\n",
       "    </tr>\n",
       "    <tr>\n",
       "      <td>4</td>\n",
       "      <td>xfwxxxxx</td>\n",
       "      <td>x</td>\n",
       "      <td>5</td>\n",
       "      <td>6</td>\n",
       "    </tr>\n",
       "  </tbody>\n",
       "</table>\n",
       "</div>"
      ],
      "text/plain": [
       "             password policy_letter  policy_count_min  policy_count_max\n",
       "0  dnjjrtclnzdnghnbnn             n                 4                 8\n",
       "1             rrrrcqr             r                 5                 6\n",
       "2         pqhpppwpfmr             p                 2                 4\n",
       "3      spppppppppppvp             p                 1                13\n",
       "4            xfwxxxxx             x                 5                 6"
      ]
     },
     "execution_count": 49,
     "metadata": {},
     "output_type": "execute_result"
    }
   ],
   "source": [
    "df[['policy_count_min','policy_count_max']] = df['policy_count'].str.split('-',expand=True)\n",
    "df.drop(columns=['policy_count'],inplace=True)\n",
    "df['policy_count_min'] = df['policy_count_min'].astype(int)\n",
    "df['policy_count_max'] = df['policy_count_max'].astype(int)\n",
    "df.head()"
   ]
  },
  {
   "cell_type": "code",
   "execution_count": 50,
   "metadata": {},
   "outputs": [
    {
     "data": {
      "text/plain": [
       "(622, 1000)"
      ]
     },
     "execution_count": 50,
     "metadata": {},
     "output_type": "execute_result"
    }
   ],
   "source": [
    "count = 0\n",
    "#This policy checks for a char count being between the limits\n",
    "def policy_check(row):\n",
    "    global count\n",
    "    char_count = row['password'].count(row['policy_letter'])\n",
    "    \n",
    "    if (char_count >= row['policy_count_min']) and \\\n",
    "            (char_count <= row['policy_count_max']):\n",
    "        count = count + 1\n",
    "    \n",
    "df.apply(policy_check,axis=1)\n",
    "count, len(df)"
   ]
  },
  {
   "cell_type": "code",
   "execution_count": 53,
   "metadata": {},
   "outputs": [
    {
     "data": {
      "text/plain": [
       "(263, 1000)"
      ]
     },
     "execution_count": 53,
     "metadata": {},
     "output_type": "execute_result"
    }
   ],
   "source": [
    "count = 0\n",
    "#this policy checks for a char being at one and only one of the two indexes\n",
    "def policy_check_v2(row):\n",
    "    global count\n",
    "    # Policy is 1 index instead of 0\n",
    "    char_1 = row['password'][row['policy_count_min']-1]\n",
    "    char_2 = row['password'][row['policy_count_max']-1]\n",
    "    \n",
    "    #check that 1 and only 1 char matches\n",
    "    if ((char_1 == row['policy_letter']) or \\\n",
    "        (char_2 == row['policy_letter'])) and \\\n",
    "        (char_1 != char_2):\n",
    "        #print(char_1,char_2)\n",
    "        #print(row)\n",
    "        count = count + 1\n",
    "    \n",
    "df.apply(policy_check_v2,axis=1)\n",
    "count, len(df)"
   ]
  },
  {
   "cell_type": "code",
   "execution_count": null,
   "metadata": {},
   "outputs": [],
   "source": []
  }
 ],
 "metadata": {
  "kernelspec": {
   "display_name": "Python 3",
   "language": "python",
   "name": "python3"
  },
  "language_info": {
   "codemirror_mode": {
    "name": "ipython",
    "version": 3
   },
   "file_extension": ".py",
   "mimetype": "text/x-python",
   "name": "python",
   "nbconvert_exporter": "python",
   "pygments_lexer": "ipython3",
   "version": "3.7.4"
  }
 },
 "nbformat": 4,
 "nbformat_minor": 2
}
