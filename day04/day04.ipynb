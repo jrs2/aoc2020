{
 "cells": [
  {
   "cell_type": "code",
   "execution_count": 1,
   "metadata": {},
   "outputs": [],
   "source": [
    "import string\n",
    "\n",
    "with open('input.txt', 'r') as f:\n",
    "    lines = f.readlines()"
   ]
  },
  {
   "cell_type": "code",
   "execution_count": 10,
   "metadata": {},
   "outputs": [
    {
     "data": {
      "text/plain": [
       "216"
      ]
     },
     "execution_count": 10,
     "metadata": {},
     "output_type": "execute_result"
    }
   ],
   "source": [
    "valid_inputs = ['byr',\n",
    "                'iyr',\n",
    "                'eyr',\n",
    "                'hgt',\n",
    "                'hcl',\n",
    "                'ecl',\n",
    "                'pid']\n",
    "valid_passports = 0\n",
    "key_list = []\n",
    "for line in lines:\n",
    "    if line == '\\n':\n",
    "        #print(key_list)\n",
    "        #print(set(valid_inputs) - set(key_list))\n",
    "        if (set(valid_inputs) - set(key_list)) == set():\n",
    "            #print(key_list)\n",
    "            valid_passports += 1\n",
    "        key_list = []\n",
    "    else:\n",
    "        pairs = line.split(' ')\n",
    "        for pair in pairs:\n",
    "            key_list.append(pair.split(':')[0])\n",
    "#check the last one too\n",
    "if (set(valid_inputs) - set(key_list)) == set():\n",
    "    #print(key_list)\n",
    "    valid_passports += 1\n",
    "valid_passports"
   ]
  },
  {
   "cell_type": "code",
   "execution_count": 40,
   "metadata": {},
   "outputs": [
    {
     "data": {
      "text/plain": [
       "150"
      ]
     },
     "execution_count": 40,
     "metadata": {},
     "output_type": "execute_result"
    }
   ],
   "source": [
    "valid_inputs = ['byr',\n",
    "                'iyr',\n",
    "                'eyr',\n",
    "                'hgt',\n",
    "                'hcl',\n",
    "                'ecl',\n",
    "                'pid']\n",
    "'''\n",
    "byr (Birth Year) - four digits; at least 1920 and at most 2002.\n",
    "iyr (Issue Year) - four digits; at least 2010 and at most 2020.\n",
    "eyr (Expiration Year) - four digits; at least 2020 and at most 2030.\n",
    "hgt (Height) - a number followed by either cm or in:\n",
    "    If cm, the number must be at least 150 and at most 193.\n",
    "    If in, the number must be at least 59 and at most 76.\n",
    "hcl (Hair Color) - a # followed by exactly six characters 0-9 or a-f.\n",
    "ecl (Eye Color) - exactly one of: amb blu brn gry grn hzl oth.\n",
    "pid (Passport ID) - a nine-digit number, including leading zeroes.\n",
    "'''\n",
    "valid_passports = 0\n",
    "key_list = []\n",
    "value_list = []\n",
    "\n",
    "def check_key_value(key_list,value_list):\n",
    "    if (set(valid_inputs) - set(key_list)) == set():\n",
    "        is_valid = True\n",
    "        for idx,key in enumerate(key_list):\n",
    "            value = value_list[idx]\n",
    "            if key == 'byr':\n",
    "                is_valid = is_valid and (len(value) == 4) and (int(value) >= 1920) and (int(value) <= 2002)\n",
    "            if key == 'iyr':\n",
    "                is_valid = is_valid and (len(value) == 4) and (int(value) >= 2010) and (int(value) <= 2020)\n",
    "            if key == 'eyr':\n",
    "                is_valid = is_valid and (len(value) == 4) and (int(value) >= 2020) and (int(value) <= 2030)\n",
    "            if key == 'hgt':\n",
    "                if (value.find('cm') != -1):\n",
    "                    value = int(value.replace('cm',''))\n",
    "                    is_valid = is_valid and (value >= 150) and (value <= 193)\n",
    "                elif(value.find('in') != -1):\n",
    "                    value = int(value.replace('in',''))\n",
    "                    is_valid = is_valid and (value >= 59) and (value <= 76)\n",
    "                else:\n",
    "                    is_valid = False\n",
    "            if key == 'hcl':\n",
    "                if len(value) == 7:\n",
    "                    is_hex  = all(c in string.hexdigits for c in value[1:])\n",
    "                    is_valid = is_valid and (value[0] == '#') and is_hex\n",
    "                else:\n",
    "                    #print(value)\n",
    "                    is_valid = False\n",
    "            if key == 'ecl':\n",
    "                is_valid = is_valid and value in ['amb','blu','brn','gry','grn','hzl','oth']\n",
    "            if key == 'pid':\n",
    "                is_valid = is_valid and (len(value) == 9) and (value.isnumeric())\n",
    "            if not is_valid: #speed up\n",
    "                #print(key,value)\n",
    "                break\n",
    "    else:\n",
    "        is_valid = False\n",
    "    return is_valid\n",
    "\n",
    "for line in lines:\n",
    "    if line == '\\n':\n",
    "        #print(key_list)\n",
    "        #print(set(valid_inputs) - set(key_list))\n",
    "        if check_key_value(key_list,value_list):\n",
    "            valid_passports += 1\n",
    "        key_list = []\n",
    "        value_list = []\n",
    "    else:\n",
    "        pairs = line.split(' ')\n",
    "        for pair in pairs:\n",
    "            key_list.append(pair.split(':')[0].strip())\n",
    "            value_list.append(pair.split(':')[1].strip())\n",
    "#check the last one too\n",
    "if check_key_value(key_list,value_list):\n",
    "    valid_passports += 1\n",
    "valid_passports"
   ]
  },
  {
   "cell_type": "code",
   "execution_count": null,
   "metadata": {},
   "outputs": [],
   "source": []
  }
 ],
 "metadata": {
  "kernelspec": {
   "display_name": "Python 3",
   "language": "python",
   "name": "python3"
  },
  "language_info": {
   "codemirror_mode": {
    "name": "ipython",
    "version": 3
   },
   "file_extension": ".py",
   "mimetype": "text/x-python",
   "name": "python",
   "nbconvert_exporter": "python",
   "pygments_lexer": "ipython3",
   "version": "3.7.4"
  }
 },
 "nbformat": 4,
 "nbformat_minor": 2
}
