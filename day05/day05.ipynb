{
 "cells": [
  {
   "cell_type": "code",
   "execution_count": 1,
   "metadata": {},
   "outputs": [],
   "source": [
    "with open('input.txt','r') as f:\n",
    "    lines = [i.strip() for i in f.readlines()]"
   ]
  },
  {
   "cell_type": "code",
   "execution_count": 6,
   "metadata": {},
   "outputs": [],
   "source": [
    "num_rows = 128\n",
    "num_columns = 8"
   ]
  },
  {
   "cell_type": "code",
   "execution_count": 30,
   "metadata": {},
   "outputs": [],
   "source": [
    "def get_seat_id(row,col):\n",
    "    return row*num_columns + col"
   ]
  },
  {
   "cell_type": "code",
   "execution_count": 56,
   "metadata": {},
   "outputs": [],
   "source": [
    "def get_row_and_col(string):\n",
    "    def get_binary(bin_string, max_value, low_char, high_char):\n",
    "        lower = 0\n",
    "        upper = max_value\n",
    "        for char in bin_string:\n",
    "            if char == low_char:\n",
    "                upper = (upper-lower)/2+lower\n",
    "            elif char == high_char:\n",
    "                lower = (upper-lower)/2+lower\n",
    "            #print(char,upper,lower)\n",
    "        return upper-1\n",
    "    def get_row(row_string):\n",
    "        return get_binary(row_string, num_rows, 'F', 'B')\n",
    "    def get_col(col_string):\n",
    "        return get_binary(col_string, num_columns, 'L', 'R')\n",
    "    row_string = string[:7] #should do log2(num_rows)\n",
    "    col_string = string[7:] \n",
    "    #print(row_string,col_string)\n",
    "    return int(get_row(row_string)), int(get_col(col_string))\n",
    "\n",
    "rows,cols = zip(*[get_row_and_col(line) for line in lines])\n",
    "ids = [get_seat_id(rows[i],cols[i]) for i in range(0,len(rows))]"
   ]
  },
  {
   "cell_type": "code",
   "execution_count": 57,
   "metadata": {},
   "outputs": [
    {
     "data": {
      "text/plain": [
       "913"
      ]
     },
     "execution_count": 57,
     "metadata": {},
     "output_type": "execute_result"
    }
   ],
   "source": [
    "max(ids)"
   ]
  },
  {
   "cell_type": "code",
   "execution_count": 58,
   "metadata": {},
   "outputs": [
    {
     "data": {
      "text/plain": [
       "1023"
      ]
     },
     "execution_count": 58,
     "metadata": {},
     "output_type": "execute_result"
    }
   ],
   "source": [
    "max_seat_id = get_seat_id(num_rows-1,num_columns-1)\n",
    "max_seat_id"
   ]
  },
  {
   "cell_type": "code",
   "execution_count": 59,
   "metadata": {},
   "outputs": [],
   "source": [
    "all_seats = set([i for i in range(0,max_seat_id)])"
   ]
  },
  {
   "cell_type": "code",
   "execution_count": 60,
   "metadata": {},
   "outputs": [
    {
     "name": "stdout",
     "output_type": "stream",
     "text": [
      "717\n"
     ]
    }
   ],
   "source": [
    "missing_ids = all_seats - set(ids)\n",
    "for i in missing_ids:\n",
    "    if ((i-1) not in missing_ids) and ((i+1) not in missing_ids):\n",
    "        print(i)"
   ]
  },
  {
   "cell_type": "code",
   "execution_count": null,
   "metadata": {},
   "outputs": [],
   "source": []
  }
 ],
 "metadata": {
  "kernelspec": {
   "display_name": "Python 3",
   "language": "python",
   "name": "python3"
  },
  "language_info": {
   "codemirror_mode": {
    "name": "ipython",
    "version": 3
   },
   "file_extension": ".py",
   "mimetype": "text/x-python",
   "name": "python",
   "nbconvert_exporter": "python",
   "pygments_lexer": "ipython3",
   "version": "3.7.4"
  }
 },
 "nbformat": 4,
 "nbformat_minor": 2
}
